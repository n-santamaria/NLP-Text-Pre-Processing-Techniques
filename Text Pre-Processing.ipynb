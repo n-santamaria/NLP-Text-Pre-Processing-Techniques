{
 "cells": [
  {
   "cell_type": "code",
   "execution_count": 3,
   "id": "278794e8",
   "metadata": {},
   "outputs": [
    {
     "name": "stdout",
     "output_type": "stream",
     "text": [
      "showing info https://raw.githubusercontent.com/nltk/nltk_data/gh-pages/index.xml\n"
     ]
    },
    {
     "data": {
      "text/plain": [
       "True"
      ]
     },
     "execution_count": 3,
     "metadata": {},
     "output_type": "execute_result"
    }
   ],
   "source": [
    "import nltk\n",
    "nltk.download()"
   ]
  },
  {
   "cell_type": "markdown",
   "id": "9b1dcd37",
   "metadata": {},
   "source": [
    "# In this section we will do a practical use-case on the following concepts:-\n",
    "\n",
    "## Tokenization\n",
    "## Stemming & Lemmatization\n",
    "## BOW\n",
    "## TF-IDF\n",
    "## Word2Vec\n",
    "\n",
    "\n",
    "\n"
   ]
  },
  {
   "cell_type": "markdown",
   "id": "8f6f6a64",
   "metadata": {},
   "source": [
    "## Tokenization"
   ]
  },
  {
   "cell_type": "code",
   "execution_count": 4,
   "id": "2c8882a4",
   "metadata": {},
   "outputs": [],
   "source": [
    "paragraph = \"\"\"Greeting everyone. Today, I am here to deliver a speech on APJ Abdul Kalam. Dr APJ Abdul Kalam’s \n",
    "full name was Avul Pakir Zainuldeben Abdul Kalam, very few people know him by his full name as he was mostly \n",
    "addressed as ‘Missile Man of India’ and ‘People’s President’. He was born into a very poor family in Rameswaram \n",
    "on October 15, 1931. Since childhood, he enjoyed flying, and was equally curious to know how birds fly in the air? \n",
    "He was very intelligent and enjoyed reading, but his family did not have sufficient income for his school fees, \n",
    "so to support his education, he would wake up early in the morning and ride a bicycle 3 kilometres from home to \n",
    "collect newspapers and sell them. He was admitted to St. Joseph's College, Tiruchirapalli, and later he went on \n",
    "to complete a degree in physics in 1954 and then studied at the Madras Institute of Technology and graduated in \n",
    "aeronautical engineering in 1955. Since his childhood, Dr Abdul Alam wanted to be a pilot but couldn’t make his \n",
    "dream come true. He learned from his mistakes and accomplished numerous achievements in his life. After completing \n",
    "his degree, Abdul Kalam entered the Defense Department of India. He has been one of the key figures in building \n",
    "the nuclear capabilities of India. APJ Abdul Kalam was appointed to the Indian Ministry of Defense as a Technical \n",
    "Advisor in 1992, after which he served with DRDO and ISRO, the country's largest organization. Considered a \n",
    "national hero for successful nuclear tests in 1998, a second successful nuclear test was conducted in Pokhran \n",
    "the same year under his supervision, after which India was included in the list of nuclear-powered nations. \n",
    "Abdul Kalam has been active in all space programs and development programs in India as a scientist. \n",
    "For developing India's Agni missile, Kalam was called 'Missile Man.'Abdul Kalam made a special technological \n",
    "and scientific contribution, for which, along with Bharat Ratna, India's highest honour, he was awarded the \n",
    "Padma Bhushan, Padam Vibhushan, etc. He was also awarded an honorary doctorate by more than 30 universities \n",
    "in the world for the same. In 2002, he was elected President of India and was the country's first scientist \n",
    "and non-political president. He visited many countries during his tenure as President and led India's youth \n",
    "through his lectures and encouraged them to move forward.  ‘My vision for India’ was a Famous Speech of APJ \n",
    "Abdul Kalam delivered at IIT Hyderabad in 2011, and is to this day my favourite speech. His far-reaching \n",
    "thinking gave India's growth a fresh path and became the youth's inspiration. Dr Abdul Kalam died on July \n",
    "27, 2015, from an apparent cardiac arrest while delivering a lecture at IIM Shillong at the age of 83. \n",
    "He spent his entire life in service and inspiration for the nation and the youth, and his death is also \n",
    "while addressing the youth. His death is a never-ending loss to the country.\"\"\""
   ]
  },
  {
   "cell_type": "code",
   "execution_count": 5,
   "id": "91d77eb6",
   "metadata": {},
   "outputs": [
    {
     "name": "stdout",
     "output_type": "stream",
     "text": [
      "No. of sentences 24\n"
     ]
    }
   ],
   "source": [
    "sentences = nltk.sent_tokenize(paragraph)\n",
    "print('No. of sentences', len(sentences))"
   ]
  },
  {
   "cell_type": "code",
   "execution_count": 6,
   "id": "18f046f1",
   "metadata": {},
   "outputs": [
    {
     "name": "stdout",
     "output_type": "stream",
     "text": [
      "No. of words:  565\n"
     ]
    }
   ],
   "source": [
    "words = nltk.word_tokenize(paragraph)\n",
    "print('No. of words: ', len(words))"
   ]
  },
  {
   "cell_type": "markdown",
   "id": "cce6e4dc",
   "metadata": {},
   "source": [
    "## Stemming"
   ]
  },
  {
   "cell_type": "code",
   "execution_count": 7,
   "id": "9bbef0d8",
   "metadata": {},
   "outputs": [],
   "source": [
    "from nltk.stem import PorterStemmer # for stemming\n",
    "from nltk.corpus import stopwords # for removing stop words"
   ]
  },
  {
   "cell_type": "code",
   "execution_count": 8,
   "id": "21ddd3ef",
   "metadata": {},
   "outputs": [
    {
     "data": {
      "text/plain": [
       "179"
      ]
     },
     "execution_count": 8,
     "metadata": {},
     "output_type": "execute_result"
    }
   ],
   "source": [
    "len(stopwords.words('english'))"
   ]
  },
  {
   "cell_type": "code",
   "execution_count": 9,
   "id": "2e8201de",
   "metadata": {},
   "outputs": [],
   "source": [
    "# Looping through all the sentences\n",
    "# Converting every sentence to words\n",
    "# Looping through words and removing stop words \n",
    "# Joining the words back into sentence\n",
    "\n",
    "stemmer = PorterStemmer()\n",
    "for i in range(len(sentences)):\n",
    "    words = nltk.word_tokenize(sentences[i])\n",
    "    words = [stemmer.stem(word) for word in words if word not in set(stopwords.words('english'))]\n",
    "    sentences[i] = ' '.join(words)"
   ]
  },
  {
   "cell_type": "code",
   "execution_count": 10,
   "id": "76da2a46",
   "metadata": {},
   "outputs": [
    {
     "name": "stdout",
     "output_type": "stream",
     "text": [
      "['greet everyon .', 'today , i deliv speech apj abdul kalam .', 'dr apj abdul kalam ’ full name avul pakir zainuldeben abdul kalam , peopl know full name mostli address ‘ missil man india ’ ‘ peopl ’ presid ’ .', 'he born poor famili rameswaram octob 15 , 1931 .', 'sinc childhood , enjoy fli , equal curiou know bird fli air ?', 'he intellig enjoy read , famili suffici incom school fee , support educ , would wake earli morn ride bicycl 3 kilometr home collect newspap sell .', \"he admit st. joseph 's colleg , tiruchirap , later went complet degre physic 1954 studi madra institut technolog graduat aeronaut engin 1955 .\", 'sinc childhood , dr abdul alam want pilot ’ make dream come true .', 'he learn mistak accomplish numer achiev life .', 'after complet degre , abdul kalam enter defens depart india .', 'he one key figur build nuclear capabl india .', \"apj abdul kalam appoint indian ministri defens technic advisor 1992 , serv drdo isro , countri 's largest organ .\", 'consid nation hero success nuclear test 1998 , second success nuclear test conduct pokhran year supervis , india includ list nuclear-pow nation .', 'abdul kalam activ space program develop program india scientist .', \"for develop india 's agni missil , kalam call 'missil man .\", \"'abdul kalam made special technolog scientif contribut , , along bharat ratna , india 's highest honour , award padma bhushan , padam vibhushan , etc .\", 'he also award honorari doctor 30 univers world .', \"in 2002 , elect presid india countri 's first scientist non-polit presid .\", \"he visit mani countri tenur presid led india 's youth lectur encourag move forward .\", '‘ my vision india ’ famou speech apj abdul kalam deliv iit hyderabad 2011 , day favourit speech .', \"hi far-reach think gave india 's growth fresh path becam youth 's inspir .\", 'dr abdul kalam die juli 27 , 2015 , appar cardiac arrest deliv lectur iim shillong age 83 .', 'he spent entir life servic inspir nation youth , death also address youth .', 'hi death never-end loss countri .']\n"
     ]
    }
   ],
   "source": [
    "print(sentences)"
   ]
  },
  {
   "cell_type": "markdown",
   "id": "2159f2fd",
   "metadata": {},
   "source": [
    "## Lemmatization"
   ]
  },
  {
   "cell_type": "code",
   "execution_count": 11,
   "id": "1c3bd468",
   "metadata": {},
   "outputs": [],
   "source": [
    "from nltk.stem import WordNetLemmatizer # for lemmatization\n",
    "from nltk.corpus import stopwords # for removing stop words"
   ]
  },
  {
   "cell_type": "code",
   "execution_count": 12,
   "id": "a5951c7b",
   "metadata": {},
   "outputs": [],
   "source": [
    "lemmatizer = WordNetLemmatizer()\n",
    "sentences = nltk.sent_tokenize(paragraph)\n",
    "for i in range(len(sentences)):\n",
    "    words = nltk.word_tokenize(sentences[i])\n",
    "    words = [lemmatizer.lemmatize(word) for word in words if word not in set(stopwords.words('english'))]\n",
    "    sentences[i] = ' '.join(words)"
   ]
  },
  {
   "cell_type": "code",
   "execution_count": 13,
   "id": "a1c0efe1",
   "metadata": {},
   "outputs": [
    {
     "name": "stdout",
     "output_type": "stream",
     "text": [
      "['Greeting everyone .', 'Today , I deliver speech APJ Abdul Kalam .', 'Dr APJ Abdul Kalam ’ full name Avul Pakir Zainuldeben Abdul Kalam , people know full name mostly addressed ‘ Missile Man India ’ ‘ People ’ President ’ .', 'He born poor family Rameswaram October 15 , 1931 .', 'Since childhood , enjoyed flying , equally curious know bird fly air ?', 'He intelligent enjoyed reading , family sufficient income school fee , support education , would wake early morning ride bicycle 3 kilometre home collect newspaper sell .', \"He admitted St. Joseph 's College , Tiruchirapalli , later went complete degree physic 1954 studied Madras Institute Technology graduated aeronautical engineering 1955 .\", 'Since childhood , Dr Abdul Alam wanted pilot ’ make dream come true .', 'He learned mistake accomplished numerous achievement life .', 'After completing degree , Abdul Kalam entered Defense Department India .', 'He one key figure building nuclear capability India .', \"APJ Abdul Kalam appointed Indian Ministry Defense Technical Advisor 1992 , served DRDO ISRO , country 's largest organization .\", 'Considered national hero successful nuclear test 1998 , second successful nuclear test conducted Pokhran year supervision , India included list nuclear-powered nation .', 'Abdul Kalam active space program development program India scientist .', \"For developing India 's Agni missile , Kalam called 'Missile Man .\", \"'Abdul Kalam made special technological scientific contribution , , along Bharat Ratna , India 's highest honour , awarded Padma Bhushan , Padam Vibhushan , etc .\", 'He also awarded honorary doctorate 30 university world .', \"In 2002 , elected President India country 's first scientist non-political president .\", \"He visited many country tenure President led India 's youth lecture encouraged move forward .\", '‘ My vision India ’ Famous Speech APJ Abdul Kalam delivered IIT Hyderabad 2011 , day favourite speech .', \"His far-reaching thinking gave India 's growth fresh path became youth 's inspiration .\", 'Dr Abdul Kalam died July 27 , 2015 , apparent cardiac arrest delivering lecture IIM Shillong age 83 .', 'He spent entire life service inspiration nation youth , death also addressing youth .', 'His death never-ending loss country .']\n"
     ]
    }
   ],
   "source": [
    "print(sentences)"
   ]
  },
  {
   "cell_type": "markdown",
   "id": "f6d7c818",
   "metadata": {},
   "source": [
    "## Bag of Words (BOW)"
   ]
  },
  {
   "cell_type": "code",
   "execution_count": 14,
   "id": "631acd81",
   "metadata": {},
   "outputs": [],
   "source": [
    "import re # for regular expression\n",
    "from nltk.corpus import stopwords\n",
    "\n",
    "# you can either use stemming or lemmatization for trimming the words. Ofcourse, lemmatization is of more value.\n",
    "from nltk.stem import PorterStemmer\n",
    "from nltk.stem import WordNetLemmatizer"
   ]
  },
  {
   "cell_type": "code",
   "execution_count": 15,
   "id": "18674a4d",
   "metadata": {},
   "outputs": [
    {
     "name": "stdout",
     "output_type": "stream",
     "text": [
      "['greeting everyone', 'today deliver speech apj abdul kalam', 'dr apj abdul kalam full name avul pakir zainuldeben abdul kalam people know full name mostly addressed missile man india people president', 'born poor family rameswaram october', 'since childhood enjoyed flying equally curious know bird fly air', 'intelligent enjoyed reading family sufficient income school fee support education would wake early morning ride bicycle kilometre home collect newspaper sell', 'admitted st joseph college tiruchirapalli later went complete degree physic studied madras institute technology graduated aeronautical engineering', 'since childhood dr abdul alam wanted pilot make dream come true', 'learned mistake accomplished numerous achievement life', 'completing degree abdul kalam entered defense department india', 'one key figure building nuclear capability india', 'apj abdul kalam appointed indian ministry defense technical advisor served drdo isro country largest organization', 'considered national hero successful nuclear test second successful nuclear test conducted pokhran year supervision india included list nuclear powered nation', 'abdul kalam active space program development program india scientist', 'developing india agni missile kalam called missile man', 'abdul kalam made special technological scientific contribution along bharat ratna india highest honour awarded padma bhushan padam vibhushan etc', 'also awarded honorary doctorate university world', 'elected president india country first scientist non political president', 'visited many country tenure president led india youth lecture encouraged move forward', 'vision india famous speech apj abdul kalam delivered iit hyderabad day favourite speech', 'far reaching thinking gave india growth fresh path became youth inspiration', 'dr abdul kalam died july apparent cardiac arrest delivering lecture iim shillong age', 'spent entire life service inspiration nation youth death also addressing youth', 'death never ending loss country']\n"
     ]
    }
   ],
   "source": [
    "ps = PorterStemmer()\n",
    "wnl = WordNetLemmatizer()\n",
    "sentences = nltk.sent_tokenize(paragraph)\n",
    "corpus = []\n",
    "for i in range(len(sentences)):\n",
    "    review = re.sub('[^a-zA-Z]', ' ', sentences[i]) # Keeping only words with alphabets and removing the rest\n",
    "    review = review.lower() # converting the sentence to lowercase\n",
    "    review = review.split() # Splitting the sentence into word list\n",
    "    review = [wnl.lemmatize(word) for word in review if word not in stopwords.words('english')]\n",
    "    review = ' '.join(review)\n",
    "    corpus.append(review)\n",
    "print(corpus)"
   ]
  },
  {
   "cell_type": "code",
   "execution_count": 16,
   "id": "61828fa0",
   "metadata": {},
   "outputs": [
    {
     "name": "stdout",
     "output_type": "stream",
     "text": [
      "[[0 0 0 ... 0 0 0]\n",
      " [1 0 0 ... 0 0 0]\n",
      " [2 0 0 ... 0 0 1]\n",
      " ...\n",
      " [1 0 0 ... 0 0 0]\n",
      " [0 0 0 ... 0 2 0]\n",
      " [0 0 0 ... 0 0 0]]\n"
     ]
    }
   ],
   "source": [
    "# Creating BOW i.e. document matrix\n",
    "# Here the words in the corpus/document converts into the integers based on the word frequency\n",
    "\n",
    "from sklearn.feature_extraction.text import CountVectorizer\n",
    "cv = CountVectorizer()\n",
    "x = cv.fit_transform(corpus).toarray()\n",
    "print(x)"
   ]
  },
  {
   "cell_type": "markdown",
   "id": "c9a5f989",
   "metadata": {},
   "source": [
    "## Term Frequency - Inverse Document Frequency (TF-IDF)"
   ]
  },
  {
   "cell_type": "code",
   "execution_count": 21,
   "id": "595f1775",
   "metadata": {},
   "outputs": [],
   "source": [
    "import re\n",
    "from nltk.corpus import stopwords\n",
    "\n",
    "# you can either use stemming or lemmatization for trimming the words. Ofcourse, lemmatization is of more value.\n",
    "from nltk.stem import WordNetLemmatizer"
   ]
  },
  {
   "cell_type": "code",
   "execution_count": 22,
   "id": "08445117",
   "metadata": {},
   "outputs": [],
   "source": [
    "wnl = WordNetLemmatizer()\n",
    "sentences = nltk.sent_tokenize(paragraph)\n",
    "corpus = []\n",
    "for i in range(len(sentences)):\n",
    "    review = re.sub('[^a-zA-z]', ' ', sentences[i])\n",
    "    review = review.lower()\n",
    "    review = review.split()\n",
    "    review = [wnl.lemmatize(word) for word in review if word not in stopwords.words('english')]\n",
    "    review = ' '.join(review)\n",
    "    corpus.append(review)"
   ]
  },
  {
   "cell_type": "code",
   "execution_count": 26,
   "id": "f4f9be3c",
   "metadata": {},
   "outputs": [
    {
     "name": "stdout",
     "output_type": "stream",
     "text": [
      "[[0.         0.         0.         ... 0.         0.         0.        ]\n",
      " [0.27445383 0.         0.         ... 0.         0.         0.        ]\n",
      " [0.22285038 0.         0.         ... 0.         0.         0.20500803]\n",
      " ...\n",
      " [0.16373126 0.         0.         ... 0.         0.         0.        ]\n",
      " [0.         0.         0.         ... 0.         0.49591994 0.        ]\n",
      " [0.         0.         0.         ... 0.         0.         0.        ]]\n"
     ]
    }
   ],
   "source": [
    "# Creating TF-IDF i.e. document matrix\n",
    "# Here the words in the corpus/document converts into the integers based on the word frequency\n",
    "\n",
    "from sklearn.feature_extraction.text import TfidfVectorizer\n",
    "tfidf = TfidfVectorizer()\n",
    "x = tfidf.fit_transform(corpus).toarray()\n",
    "print(x)"
   ]
  },
  {
   "cell_type": "markdown",
   "id": "a0373dd9",
   "metadata": {},
   "source": [
    "## Word2Vec"
   ]
  },
  {
   "cell_type": "code",
   "execution_count": 40,
   "id": "d16c3789",
   "metadata": {},
   "outputs": [
    {
     "name": "stdout",
     "output_type": "stream",
     "text": [
      "[',', '.', 'india', 'kalam', 'abdul', \"'s\", '’', 'youth', 'president', 'apj', 'dr', 'country', '‘', 'speech', 'nuclear', 'childhood', 'since', 'awarded', 'family', 'programs', 'enjoyed', 'man', 'missile', 'life', 'successful', 'scientist', 'know', 'people', 'inspiration', 'also', 'name', 'full', 'defense', 'death', 'degree', 'studied', 'institute', 'madras', 'technology', 'later', 'physics', 'complete', 'went', 'aeronautical', 'tiruchirapalli', 'college', 'graduated', 'loss', 'engineering', 'alam', 'department', 'entered', 'completing', 'achievements', 'numerous', 'accomplished', 'mistakes', 'learned', 'st.', 'true', 'come', 'dream', 'make', 'pilot', 'wanted', 'joseph', 'education', 'admitted', 'sell', 'fly', 'birds', 'curious', 'equally', 'flying', 'october', 'rameswaram', 'poor', 'born', 'addressed', 'mostly', 'zainuldeben', 'pakir', 'avul', 'deliver', 'today', 'everyone', 'air', '?', 'intelligent', 'early', 'newspapers', 'collect', 'home', 'kilometres', 'bicycle', 'ride', 'morning', 'wake', 'reading', 'would', 'key', 'support', 'fees', 'school', 'income', 'sufficient', 'one', 'appointed', 'figures', 'building', 'hyderabad', 'iit', 'delivered', 'famous', 'vision', 'forward', 'move', 'encouraged', 'lectures', 'led', 'tenure', 'countries', 'many', 'visited', 'non-political', 'first', 'elected', 'world', 'universities', 'doctorate', 'honorary', 'day', 'favourite', 'far-reaching', 'delivering', 'addressing', 'nation', 'service', 'entire', 'spent', 'age', 'shillong', 'iim', 'lecture', 'arrest', 'thinking', 'cardiac', 'apparent', 'july', 'died', 'became', 'path', 'fresh', 'growth', 'gave', 'etc', 'vibhushan', 'padam', 'organization', 'year', 'pokhran', 'conducted', 'test', 'second', 'tests', 'hero', 'national', 'considered', 'largest', 'included', 'isro', 'drdo', 'served', 'advisor', 'technical', 'ministry', 'indian', 'never-ending', 'capabilities', 'supervision', 'list', 'bhushan', 'special', 'padma', 'honour', 'highest', 'ratna', 'bharat', 'along', 'contribution', 'scientific', 'technological', 'made', 'nuclear-powered', \"'abdul\", \"'missile\", 'called', 'agni', 'developing', 'development', 'space', 'active', 'nations', 'greeting'] \n",
      "\n",
      "\n",
      "[ 8.0972761e-03 -4.4096680e-03  8.9573227e-03  8.2987137e-03\n",
      " -4.4106650e-03  2.5010543e-04  4.2912494e-03 -3.8190424e-03\n",
      " -5.6289053e-03 -6.5483651e-03 -6.3847611e-04 -3.5031018e-04\n",
      "  4.4784676e-03 -2.4427841e-03 -1.5848957e-04  2.4745595e-03\n",
      "  4.9243779e-03 -1.3925783e-04 -6.3717812e-03 -9.3909604e-03\n",
      " -3.2686307e-06  6.7205983e-03  1.4531163e-03 -8.9921262e-03\n",
      " -7.9421885e-03  6.5641045e-03 -3.8149501e-03  6.2085278e-03\n",
      " -6.7260638e-03  8.5276272e-03 -6.4934669e-03  3.3006184e-03\n",
      " -1.0964575e-03 -6.8187658e-03 -3.3380694e-03 -1.0621871e-03\n",
      " -5.4513845e-03 -1.2901278e-03 -7.5551546e-03  2.5475798e-03\n",
      "  9.0582659e-03 -2.4760135e-03 -1.0176685e-03  3.4922932e-03\n",
      "  8.6904522e-03 -5.8934204e-03 -6.8871491e-03 -2.9355192e-03\n",
      "  9.1644656e-03  9.2300749e-04 -8.6056329e-03 -1.4515524e-03\n",
      "  9.4739785e-03 -7.5620776e-03 -5.4066260e-03  9.3538174e-03\n",
      " -8.9511229e-03  3.8204836e-03  5.9765944e-04  6.7470544e-03\n",
      "  8.2879579e-03 -2.8158957e-03 -3.9644097e-03  8.8534290e-03\n",
      "  2.0172321e-03  6.2729605e-03 -9.3605118e-03  9.6757188e-03\n",
      " -1.3936108e-03 -5.9448290e-03  2.9738822e-03 -4.2522571e-04\n",
      "  4.7378168e-03 -2.3026078e-03 -4.1048620e-03  2.2855713e-03\n",
      "  8.3338851e-03 -4.9927887e-03  2.6002850e-03 -7.9538180e-03\n",
      " -6.7820312e-03 -4.4031575e-04 -8.8276807e-03  2.9149519e-03\n",
      "  1.5710706e-03 -2.3574103e-03  5.0400412e-03  9.8023331e-03\n",
      "  8.5241394e-03 -1.9219990e-03  2.1112128e-03 -3.9347243e-03\n",
      " -8.2569569e-03  6.3388320e-03 -1.8065936e-03 -5.7631388e-04\n",
      " -1.7190388e-03 -4.6179928e-03  4.0858095e-03 -4.2965319e-03] \n",
      "\n",
      "\n",
      "[('isro', 0.27491217851638794), ('nuclear', 0.24907976388931274), ('bicycle', 0.21469390392303467), ('one', 0.21319244801998138), ('deliver', 0.19796831905841827), ('newspapers', 0.1978844553232193), ('accomplished', 0.197041317820549), ('visited', 0.19574949145317078), ('loss', 0.19146431982517242), ('year', 0.18441805243492126)]\n"
     ]
    }
   ],
   "source": [
    "import nltk\n",
    "import re\n",
    "from gensim.models import Word2Vec\n",
    "from nltk.corpus import stopwords\n",
    "\n",
    "# Removing special and, whitespace charcters\n",
    "txt = re.sub(r'\\[[0-9]*\\]', ' ', paragraph)\n",
    "txt = re.sub(r'\\s+', ' ', txt)\n",
    "txt = txt.lower()\n",
    "txt = re.sub(r'\\d', ' ', txt)\n",
    "txt = re.sub(r'\\s+', ' ', txt)\n",
    "sentences = nltk.sent_tokenize(txt)\n",
    "sentences = [nltk.word_tokenize(sent) for sent in sentences]\n",
    "\n",
    "# Removing stopwords\n",
    "for i in range(len(sentences)):\n",
    "    sentences[i] = [word for word in sentences[i] if word not in stopwords.words('english')]\n",
    "\n",
    "# Creating a Word2Vec model\n",
    "# min_count = 1 (Include word only having more than 1 occurance) You can give any number here.\n",
    "model = Word2Vec(sentences, min_count=1)\n",
    "\n",
    "# Fetching vocabularies from the model created above\n",
    "words = list(model.wv.index_to_key)\n",
    "print(words, '\\n\\n')\n",
    "\n",
    "# Fetching the vector of word\n",
    "vector = model.wv['youth']\n",
    "print(vector, '\\n\\n')\n",
    "\n",
    "# Fetching the similar words\n",
    "similar = model.wv.most_similar('awarded')\n",
    "print(similar)"
   ]
  },
  {
   "cell_type": "code",
   "execution_count": null,
   "id": "7f5dddaa",
   "metadata": {},
   "outputs": [],
   "source": []
  }
 ],
 "metadata": {
  "kernelspec": {
   "display_name": "Python 3 (ipykernel)",
   "language": "python",
   "name": "python3"
  },
  "language_info": {
   "codemirror_mode": {
    "name": "ipython",
    "version": 3
   },
   "file_extension": ".py",
   "mimetype": "text/x-python",
   "name": "python",
   "nbconvert_exporter": "python",
   "pygments_lexer": "ipython3",
   "version": "3.9.7"
  }
 },
 "nbformat": 4,
 "nbformat_minor": 5
}
